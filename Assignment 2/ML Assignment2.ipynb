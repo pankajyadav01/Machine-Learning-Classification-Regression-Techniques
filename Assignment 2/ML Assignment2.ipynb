{
 "cells": [
  {
   "cell_type": "markdown",
   "metadata": {
    "collapsed": true
   },
   "source": [
    "# Introduction\n",
    "The Data Set is a Housing Prices data set taken from kaggle.com.\n",
    "The dataset contain following attributes of each house :\n",
    "    • lotsize: The squared cover area of the house (in msq.)\n",
    "    • bedrooms: No. of bedrooms in the house.\n",
    "    • bathrms: No. of bathrooms in the house.\n",
    "    • stories: No. of stories.\n",
    "    • garagepl: Availability of garage.\n",
    "    • price: Price (in Dollars)\n",
    "   \n",
    "## Data Set : HOUSING PRICES"
   ]
  },
  {
   "cell_type": "code",
   "execution_count": 1,
   "metadata": {
    "collapsed": true
   },
   "outputs": [],
   "source": [
    "# Importing Packages\n",
    "import pandas as pd\n",
    "from sklearn.naive_bayes import GaussianNB\n",
    "from sklearn.metrics import accuracy_score\n",
    "from sklearn.model_selection import train_test_split\n",
    "from sklearn.neighbors import KNeighborsClassifier\n",
    "from sklearn import svm\n",
    "from sklearn.metrics import recall_score"
   ]
  },
  {
   "cell_type": "code",
   "execution_count": 2,
   "metadata": {},
   "outputs": [
    {
     "data": {
      "text/html": [
       "<div>\n",
       "<style>\n",
       "    .dataframe thead tr:only-child th {\n",
       "        text-align: right;\n",
       "    }\n",
       "\n",
       "    .dataframe thead th {\n",
       "        text-align: left;\n",
       "    }\n",
       "\n",
       "    .dataframe tbody tr th {\n",
       "        vertical-align: top;\n",
       "    }\n",
       "</style>\n",
       "<table border=\"1\" class=\"dataframe\">\n",
       "  <thead>\n",
       "    <tr style=\"text-align: right;\">\n",
       "      <th></th>\n",
       "      <th>Unnamed: 0</th>\n",
       "      <th>lotsize</th>\n",
       "      <th>bedrooms</th>\n",
       "      <th>bathrms</th>\n",
       "      <th>stories</th>\n",
       "      <th>garagepl</th>\n",
       "      <th>price</th>\n",
       "    </tr>\n",
       "  </thead>\n",
       "  <tbody>\n",
       "    <tr>\n",
       "      <th>0</th>\n",
       "      <td>1</td>\n",
       "      <td>5850</td>\n",
       "      <td>3</td>\n",
       "      <td>1</td>\n",
       "      <td>2</td>\n",
       "      <td>1</td>\n",
       "      <td>42000.0</td>\n",
       "    </tr>\n",
       "    <tr>\n",
       "      <th>1</th>\n",
       "      <td>2</td>\n",
       "      <td>4000</td>\n",
       "      <td>2</td>\n",
       "      <td>1</td>\n",
       "      <td>1</td>\n",
       "      <td>0</td>\n",
       "      <td>38500.0</td>\n",
       "    </tr>\n",
       "    <tr>\n",
       "      <th>2</th>\n",
       "      <td>3</td>\n",
       "      <td>3060</td>\n",
       "      <td>3</td>\n",
       "      <td>1</td>\n",
       "      <td>1</td>\n",
       "      <td>0</td>\n",
       "      <td>49500.0</td>\n",
       "    </tr>\n",
       "    <tr>\n",
       "      <th>3</th>\n",
       "      <td>4</td>\n",
       "      <td>6650</td>\n",
       "      <td>3</td>\n",
       "      <td>1</td>\n",
       "      <td>2</td>\n",
       "      <td>0</td>\n",
       "      <td>60500.0</td>\n",
       "    </tr>\n",
       "    <tr>\n",
       "      <th>4</th>\n",
       "      <td>5</td>\n",
       "      <td>6360</td>\n",
       "      <td>2</td>\n",
       "      <td>1</td>\n",
       "      <td>1</td>\n",
       "      <td>0</td>\n",
       "      <td>61000.0</td>\n",
       "    </tr>\n",
       "  </tbody>\n",
       "</table>\n",
       "</div>"
      ],
      "text/plain": [
       "   Unnamed: 0  lotsize  bedrooms  bathrms  stories  garagepl    price\n",
       "0           1     5850         3        1        2         1  42000.0\n",
       "1           2     4000         2        1        1         0  38500.0\n",
       "2           3     3060         3        1        1         0  49500.0\n",
       "3           4     6650         3        1        2         0  60500.0\n",
       "4           5     6360         2        1        1         0  61000.0"
      ]
     },
     "execution_count": 2,
     "metadata": {},
     "output_type": "execute_result"
    }
   ],
   "source": [
    "# Reading the Data Set\n",
    "df = pd.read_csv(\"Housing.csv\")\n",
    "df.head()"
   ]
  },
  {
   "cell_type": "code",
   "execution_count": 3,
   "metadata": {
    "collapsed": true
   },
   "outputs": [],
   "source": [
    "#Loading Attributes\n",
    "X = df[['lotsize','bedrooms','bathrms','stories','garagepl']]\n",
    "y = df['price']"
   ]
  },
  {
   "cell_type": "markdown",
   "metadata": {},
   "source": [
    "# Description"
   ]
  },
  {
   "cell_type": "markdown",
   "metadata": {
    "collapsed": true
   },
   "source": [
    "## Naive Bayes Classifier\n",
    "\n",
    "Naïve Bayes is used to make predictions of the likelihood that whether an\n",
    "event will occur with the evidence that’s present in the given data. There are\n",
    "three types of Naïve Bayes Models.\n",
    "    •Multinomial: good for when features describe frequency counts.\n",
    "    •Bernoulli: good for making prediction from binary features\n",
    "    •Gaussian: good for predictions from normally distributed features.\n",
    "Naïve Bayes assumes that predictors are independent of one another.\n",
    "Training here is very fast as only the probability of the class in the input\n",
    "values need to be calculated."
   ]
  },
  {
   "cell_type": "code",
   "execution_count": 4,
   "metadata": {},
   "outputs": [
    {
     "name": "stdout",
     "output_type": "stream",
     "text": [
      "Total Data = 546\n",
      "Wrongly Predicted data = 376\n",
      "Accuracy = 31.1355311355\n"
     ]
    }
   ],
   "source": [
    "gnb = GaussianNB()\n",
    "Y_pred = gnb.fit(X, y)\n",
    "prediction = Y_pred.predict(X)\n",
    "print('Total Data = '+str(df['price'].count()))\n",
    "print('Wrongly Predicted data = %d'%((y != prediction).sum()))\n",
    "print('Accuracy = ' + str(accuracy_score(y,prediction)*100))\n"
   ]
  },
  {
   "cell_type": "markdown",
   "metadata": {
    "collapsed": true
   },
   "source": [
    "## KNN (K Nearest Neighbour) Classifier\n",
    "\n",
    "K-NN is a supervised classfier where the classifier memorises the\n",
    "observations from labeled training set and predicts the labels for a test\n",
    "unlabeled set. It makes these prediction on the basis of how similar the\n",
    "training observations are similar to the test observations. The probability of\n",
    "the instance being classified with a certain label depends on how similar it is\n",
    "to that label. It is used for recommendation systems, stock price predictions.\n",
    "It assumes that dataset has little noise and it is labeled.\n",
    "For prediction, the entire training set is searched to find the K most similar\n",
    "instances and for classification, it uses the most common class value."
   ]
  },
  {
   "cell_type": "code",
   "execution_count": 5,
   "metadata": {
    "collapsed": true
   },
   "outputs": [],
   "source": [
    "# Splitting Test & Train data\n",
    "X_train, X_test, y_train, y_test = train_test_split(X, y, random_state=0)"
   ]
  },
  {
   "cell_type": "code",
   "execution_count": 6,
   "metadata": {},
   "outputs": [
    {
     "name": "stdout",
     "output_type": "stream",
     "text": [
      "KNN Score : 0.729927007299\n"
     ]
    }
   ],
   "source": [
    "#  Using KNN Classifier\n",
    "knn = KNeighborsClassifier(n_neighbors=5)\n",
    "# Training the Data\n",
    "knn.fit(X_train,y_train)\n",
    "print('KNN Score : '+str(knn.score(X_test,y_test)*100))"
   ]
  },
  {
   "cell_type": "markdown",
   "metadata": {
    "collapsed": true
   },
   "source": [
    "## SVM Classifier\n",
    "\n",
    "In machine learning, support vector machines are supervised learning models with\n",
    "associated learning algorithms that analyse data used for classification and\n",
    "regression analysis. When data are not labeled, supervised learning is not possible,\n",
    "and an unsupervised learning approach is required, which attempts to find natural\n",
    "clustering of the data to groups, and then map new data to these formed groups.\n",
    "A support vector machine constructs a hyperplane or set of hyperplanes in a highor\n",
    "infinite-dimensional space, which can be used for classification, regression, or\n",
    "other tasks like outliers detection. The hyperplanes in the higher-dimensional\n",
    "space are defined as the set of points whose dot product with a vector in that\n",
    "space is constant."
   ]
  },
  {
   "cell_type": "code",
   "execution_count": 7,
   "metadata": {},
   "outputs": [
    {
     "name": "stdout",
     "output_type": "stream",
     "text": [
      "SVM Score : 67.032967033\n",
      "Recall Score =0.021897810219\n"
     ]
    }
   ],
   "source": [
    "model = svm.SVC(gamma=1)\n",
    "# Training The Data\n",
    "model.fit(X_train,y_train)\n",
    "# Predicting the Data\n",
    "y_predicted = model.predict(X_test)\n",
    "print('SVM Score : '+str(model.score(X,y)*100))\n",
    "print('Recall Score ='+str(recall_score(y_true=y_test,y_pred=y_predicted,average='micro')))"
   ]
  },
  {
   "cell_type": "markdown",
   "metadata": {},
   "source": []
  },
  {
   "cell_type": "markdown",
   "metadata": {
    "collapsed": true
   },
   "source": [
    "As we can see the results for the given dataset, SVM provides the best accuracy\n",
    "and prediction in comparison to KNN and naive Bayes"
   ]
  }
 ],
 "metadata": {
  "kernelspec": {
   "display_name": "Python 3",
   "language": "python",
   "name": "python3"
  },
  "language_info": {
   "codemirror_mode": {
    "name": "ipython",
    "version": 3
   },
   "file_extension": ".py",
   "mimetype": "text/x-python",
   "name": "python",
   "nbconvert_exporter": "python",
   "pygments_lexer": "ipython3",
   "version": "3.6.3"
  }
 },
 "nbformat": 4,
 "nbformat_minor": 2
}
